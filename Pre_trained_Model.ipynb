{
  "nbformat": 4,
  "nbformat_minor": 0,
  "metadata": {
    "colab": {
      "provenance": [],
      "gpuType": "T4",
      "authorship_tag": "ABX9TyN0wvoEJBrG2rBKkKgnzam+",
      "include_colab_link": true
    },
    "kernelspec": {
      "name": "python3",
      "display_name": "Python 3"
    },
    "language_info": {
      "name": "python"
    },
    "accelerator": "GPU"
  },
  "cells": [
    {
      "cell_type": "markdown",
      "metadata": {
        "id": "view-in-github",
        "colab_type": "text"
      },
      "source": [
        "<a href=\"https://colab.research.google.com/github/duongtran96/Image_Project_Yolov10/blob/main/Pre_trained_Model.ipynb\" target=\"_parent\"><img src=\"https://colab.research.google.com/assets/colab-badge.svg\" alt=\"Open In Colab\"/></a>"
      ]
    },
    {
      "cell_type": "code",
      "source": [
        "!git clone https://github.com/THU-MIG/yolov10.git\n",
        "%cd yolov10\n",
        "!pip install -q -r requirements.txt\n",
        "!pip install -e"
      ],
      "metadata": {
        "id": "8G_sRlq9XIrg",
        "collapsed": true
      },
      "execution_count": null,
      "outputs": []
    },
    {
      "cell_type": "code",
      "source": [
        "from ultralytics import YOLOv10\n",
        "\n",
        "MODEL_PATH =  \"/content/yolov10n.pt\"\n",
        "model = YOLOv10(MODEL_PATH)"
      ],
      "metadata": {
        "id": "IwJBKJYlXnwi"
      },
      "execution_count": 25,
      "outputs": []
    },
    {
      "cell_type": "code",
      "source": [
        "IMG_PATH = '/content/street-view-of-pham-ngu-lao-street--vietnam-921731936-5c353f9746e0fb000180251c.jpg'\n",
        "result = model(source =IMG_PATH, save = True)"
      ],
      "metadata": {
        "id": "72mhXOzSY_fX",
        "collapsed": true
      },
      "execution_count": null,
      "outputs": []
    },
    {
      "cell_type": "code",
      "source": [
        "VIDEO_PATH = \"/content/HIGHLIGHTS _ Real Madrid 1-1 Manchester City _ UEFA Champions League.mp4\"\n",
        "result1 = model(source = VIDEO_PATH, save = True)"
      ],
      "metadata": {
        "collapsed": true,
        "id": "NAis9PAgqr45"
      },
      "execution_count": null,
      "outputs": []
    }
  ]
}