{
  "cells": [
    {
      "cell_type": "markdown",
      "metadata": {
        "colab_type": "text",
        "id": "view-in-github"
      },
      "source": [
        "<a href=\"https://colab.research.google.com/github/duongtran96/Image_Project_Yolov10/blob/main/Pre_trained_Model.ipynb\" target=\"_parent\"><img src=\"https://colab.research.google.com/assets/colab-badge.svg\" alt=\"Open In Colab\"/></a>"
      ]
    },
    {
      "cell_type": "code",
      "execution_count": null,
      "metadata": {
        "collapsed": true,
        "id": "8G_sRlq9XIrg"
      },
      "outputs": [],
      "source": [
        "!git clone https://github.com/THU-MIG/yolov10.git\n",
        "%cd yolov10\n",
        "!pip install -q -r requirements.txt\n",
        "!pip install -e"
      ]
    },
    {
      "cell_type": "code",
      "execution_count": null,
      "metadata": {
        "id": "IwJBKJYlXnwi"
      },
      "outputs": [],
      "source": [
        "from ultralytics import YOLOv10\n",
        "\n",
        "MODEL_PATH =  \"/content/yolov10n.pt\"\n",
        "model = YOLOv10(MODEL_PATH)"
      ]
    },
    {
      "cell_type": "code",
      "execution_count": null,
      "metadata": {
        "collapsed": true,
        "id": "72mhXOzSY_fX"
      },
      "outputs": [],
      "source": [
        "IMG_PATH = '/content/street-view-of-pham-ngu-lao-street--vietnam-921731936-5c353f9746e0fb000180251c.jpg'\n",
        "result = model(source =IMG_PATH, save = True)"
      ]
    },
    {
      "cell_type": "code",
      "execution_count": null,
      "metadata": {
        "collapsed": true,
        "id": "NAis9PAgqr45"
      },
      "outputs": [],
      "source": [
        "VIDEO_PATH = \"/content/HIGHLIGHTS _ Real Madrid 1-1 Manchester City _ UEFA Champions League.mp4\"\n",
        "result1 = model(source = VIDEO_PATH, save = True)"
      ]
    }
  ],
  "metadata": {
    "accelerator": "GPU",
    "colab": {
      "authorship_tag": "ABX9TyN0wvoEJBrG2rBKkKgnzam+",
      "gpuType": "T4",
      "include_colab_link": true,
      "provenance": []
    },
    "kernelspec": {
      "display_name": "Python 3",
      "name": "python3"
    },
    "language_info": {
      "name": "python"
    }
  },
  "nbformat": 4,
  "nbformat_minor": 0
}
